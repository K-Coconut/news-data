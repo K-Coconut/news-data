{
 "cells": [
  {
   "cell_type": "code",
   "execution_count": 65,
   "metadata": {},
   "outputs": [],
   "source": [
    "import pandas as pd\n",
    "import os\n",
    "import re\n",
    "import numpy as np\n",
    "from os import path\n",
    "import datetime"
   ]
  },
  {
   "cell_type": "code",
   "execution_count": 2,
   "metadata": {},
   "outputs": [],
   "source": [
    "data_dir='/Users/coconut/code/DataBase/data/news-data'"
   ]
  },
  {
   "cell_type": "code",
   "execution_count": 15,
   "metadata": {},
   "outputs": [],
   "source": [
    "os.chdir(data_dir)"
   ]
  },
  {
   "cell_type": "markdown",
   "metadata": {},
   "source": [
    "获取目标文件\n",
    "```sh\n",
    "grep \"航空\" ./brief/* -r | awk -F.csv '{print$1}' > Aerial/briefhit\n",
    "```\n",
    "\n",
    "查看同个文件中出现航空的次数  \n",
    "```sh\n",
    "sort target| uniq -c\n",
    "```\n",
    "\n",
    "去重导出到文件\n",
    "```sh\n",
    "sort Aerial/briefhit| uniq | awk '{print $1\" \"$2\".csv\" }' > Aerial/brief_target\n",
    "sort Aerial/majorhit| uniq | awk '{print $1\" \"$2\".csv\" }' > Aerial/major_target\n",
    "```"
   ]
  },
  {
   "cell_type": "markdown",
   "metadata": {},
   "source": [
    "过滤掉文件中混杂的不同日期数据"
   ]
  },
  {
   "cell_type": "code",
   "execution_count": 161,
   "metadata": {},
   "outputs": [],
   "source": [
    "def filter_date(x, date):\n",
    "    if x.startswith(date):\n",
    "        return x\n",
    "    else:\n",
    "        return np.nan\n",
    "\n",
    "\n",
    "def find_target(x):\n",
    "    if pd.notna(x) and \"航空\" in x:\n",
    "        return x\n",
    "    else:\n",
    "        return np.nan"
   ]
  },
  {
   "cell_type": "markdown",
   "metadata": {},
   "source": [
    "抽取出目标内容"
   ]
  },
  {
   "cell_type": "code",
   "execution_count": 141,
   "metadata": {},
   "outputs": [],
   "source": [
    "c = 0\n",
    "df = pd.DataFrame()\n",
    "with open(path.join(data_dir,'major_target')) as f:\n",
    "    for i in f.readlines():\n",
    "        c+=1\n",
    "        data = pd.read_csv(i.replace('\\n',''))\n",
    "        data.content = data.content.apply(find_target)\n",
    "        data.pub_time = data.pub_time.apply(filter_date, date=i.split(\" \")[0].split(\"/\")[-1])\n",
    "        data.dropna(subset=['content', 'pub_time'], inplace=True)\n",
    "        df = df.append(data[['title','content','pub_time','src']])\n",
    "\n",
    "        \n",
    "# 得到的索引是重复的，需要重整index\n",
    "df.index = [i for i in range(df.shape[0])]"
   ]
  },
  {
   "cell_type": "code",
   "execution_count": 142,
   "metadata": {
    "scrolled": true
   },
   "outputs": [],
   "source": [
    "df.to_csv(\"Aerial_Major.csv\", index=False)"
   ]
  },
  {
   "cell_type": "code",
   "execution_count": 144,
   "metadata": {},
   "outputs": [
    {
     "data": {
      "text/plain": [
       "Index(['Unnamed: 0', 'datetime', 'content', 'title'], dtype='object')"
      ]
     },
     "execution_count": 144,
     "metadata": {},
     "output_type": "execute_result"
    }
   ],
   "source": [
    "pd.read_csv(\"./brief/10jqka/2020-06-20 00:00:00.csv\").columns"
   ]
  },
  {
   "cell_type": "code",
   "execution_count": 165,
   "metadata": {
    "scrolled": true
   },
   "outputs": [],
   "source": [
    "c = 0\n",
    "df2 = pd.DataFrame()\n",
    "with open(path.join(data_dir,'brief_target')) as f:\n",
    "    for i in f.readlines():\n",
    "        data = pd.read_csv(i.replace('\\n',''))\n",
    "        data.content = data.content.apply(find_target)\n",
    "        data.datetime = data.datetime.apply(filter_date, date=i.split(\" \")[0].split(\"/\")[-1])\n",
    "        data.dropna(subset=['content', 'datetime'], inplace=True)\n",
    "        df2 = df2.append(data[['title', 'content', 'datetime']])\n",
    "\n",
    "        \n",
    "# 得到的索引是重复的，需要重整index\n",
    "df2.index = [i for i in range(df2.shape[0])]"
   ]
  },
  {
   "cell_type": "code",
   "execution_count": 166,
   "metadata": {
    "scrolled": true
   },
   "outputs": [
    {
     "data": {
      "text/html": [
       "<div>\n",
       "<style scoped>\n",
       "    .dataframe tbody tr th:only-of-type {\n",
       "        vertical-align: middle;\n",
       "    }\n",
       "\n",
       "    .dataframe tbody tr th {\n",
       "        vertical-align: top;\n",
       "    }\n",
       "\n",
       "    .dataframe thead th {\n",
       "        text-align: right;\n",
       "    }\n",
       "</style>\n",
       "<table border=\"1\" class=\"dataframe\">\n",
       "  <thead>\n",
       "    <tr style=\"text-align: right;\">\n",
       "      <th></th>\n",
       "      <th>title</th>\n",
       "      <th>content</th>\n",
       "      <th>datetime</th>\n",
       "    </tr>\n",
       "  </thead>\n",
       "  <tbody>\n",
       "    <tr>\n",
       "      <th>0</th>\n",
       "      <td>美多家航空公司继续推迟复飞波音737MAX波音公司</td>\n",
       "      <td>据外媒报道，鉴于波音公司上个月表示，737MAX系列客机无望在今年年中前获得复飞许可，近日，...</td>\n",
       "      <td>2020-02-17 21:10:00</td>\n",
       "    </tr>\n",
       "    <tr>\n",
       "      <th>1</th>\n",
       "      <td>东方航空：计划恢复国际航线5条 国内航线163条</td>\n",
       "      <td>东方航空23日消息，为保障全国企业有序复工及旅客顺利便捷出行，东航计划恢复国际航线5条，国内...</td>\n",
       "      <td>2020-02-23 20:31:00</td>\n",
       "    </tr>\n",
       "    <tr>\n",
       "      <th>2</th>\n",
       "      <td>美国联邦航空管理局周二提议  航空公司应完成对波音 737 ...</td>\n",
       "      <td>据报道，美国联邦航空管理局周二提议，在波音 737 MAX客机恢复服务以前，航空公司应完成对...</td>\n",
       "      <td>2020-02-26 03:52:00</td>\n",
       "    </tr>\n",
       "    <tr>\n",
       "      <th>3</th>\n",
       "      <td>海航“被接管”？权威知情人士说不能“想当然”</td>\n",
       "      <td>权威知情人士称，海航集团不会被接管，海南航空也不会被拆分。（第一财经）</td>\n",
       "      <td>2020-02-29 20:32:00</td>\n",
       "    </tr>\n",
       "    <tr>\n",
       "      <th>4</th>\n",
       "      <td>海南航空不会被海航集团出售</td>\n",
       "      <td>从知情人士处获悉，海南省海航集团联合工作组成立后，海航旗下的航空资产不会以拆分出售资产的形式...</td>\n",
       "      <td>2020-02-29 18:06:00</td>\n",
       "    </tr>\n",
       "    <tr>\n",
       "      <th>...</th>\n",
       "      <td>...</td>\n",
       "      <td>...</td>\n",
       "      <td>...</td>\n",
       "    </tr>\n",
       "    <tr>\n",
       "      <th>6548</th>\n",
       "      <td>中国造船业已摘取造船业“三颗明珠” 中的两颗</td>\n",
       "      <td>云财经讯，航空母舰、豪华邮轮、大型液化天然气运输船，是全球造船业皇冠上的“三颗明珠”。沪东中...</td>\n",
       "      <td>2020-11-04 13:08:13</td>\n",
       "    </tr>\n",
       "    <tr>\n",
       "      <th>6549</th>\n",
       "      <td>全球第一台飞行汽车获批上路</td>\n",
       "      <td>云财经讯，据媒体报道，飞行汽车Liberty近日已获得批准可以在欧洲道路上行驶，这是全球第一...</td>\n",
       "      <td>2020-11-04 07:54:49</td>\n",
       "    </tr>\n",
       "    <tr>\n",
       "      <th>6550</th>\n",
       "      <td>道指初步收涨逾500点</td>\n",
       "      <td>云财经讯，道指初步收涨逾500点。高盛和摩根士丹利均涨约4%，领跑大型银行股。主要科技股里，...</td>\n",
       "      <td>2020-11-04 04:57:29</td>\n",
       "    </tr>\n",
       "    <tr>\n",
       "      <th>6551</th>\n",
       "      <td>民航局：支持粤港澳大湾区内机场间深化互利共赢合作</td>\n",
       "      <td>云财经讯，11月4日，中国民用航空局局长冯正霖在京会见香港特区行政长官林郑月娥一行，双方就深...</td>\n",
       "      <td>2020-11-05 14:00:30</td>\n",
       "    </tr>\n",
       "    <tr>\n",
       "      <th>6552</th>\n",
       "      <td>东航进博首日签约2项航空大单</td>\n",
       "      <td>云财经讯，据国资委，中国东方航空成功签约两项航空大单。一是与CFM（GE通用电气公司与赛峰飞...</td>\n",
       "      <td>2020-11-05 13:01:31</td>\n",
       "    </tr>\n",
       "  </tbody>\n",
       "</table>\n",
       "<p>6553 rows × 3 columns</p>\n",
       "</div>"
      ],
      "text/plain": [
       "                                  title  \\\n",
       "0             美多家航空公司继续推迟复飞波音737MAX波音公司   \n",
       "1              东方航空：计划恢复国际航线5条 国内航线163条   \n",
       "2     美国联邦航空管理局周二提议  航空公司应完成对波音 737 ...   \n",
       "3                海航“被接管”？权威知情人士说不能“想当然”   \n",
       "4                         海南航空不会被海航集团出售   \n",
       "...                                 ...   \n",
       "6548             中国造船业已摘取造船业“三颗明珠” 中的两颗   \n",
       "6549                      全球第一台飞行汽车获批上路   \n",
       "6550                        道指初步收涨逾500点   \n",
       "6551           民航局：支持粤港澳大湾区内机场间深化互利共赢合作   \n",
       "6552                     东航进博首日签约2项航空大单   \n",
       "\n",
       "                                                content             datetime  \n",
       "0     据外媒报道，鉴于波音公司上个月表示，737MAX系列客机无望在今年年中前获得复飞许可，近日，...  2020-02-17 21:10:00  \n",
       "1     东方航空23日消息，为保障全国企业有序复工及旅客顺利便捷出行，东航计划恢复国际航线5条，国内...  2020-02-23 20:31:00  \n",
       "2     据报道，美国联邦航空管理局周二提议，在波音 737 MAX客机恢复服务以前，航空公司应完成对...  2020-02-26 03:52:00  \n",
       "3                   权威知情人士称，海航集团不会被接管，海南航空也不会被拆分。（第一财经）  2020-02-29 20:32:00  \n",
       "4     从知情人士处获悉，海南省海航集团联合工作组成立后，海航旗下的航空资产不会以拆分出售资产的形式...  2020-02-29 18:06:00  \n",
       "...                                                 ...                  ...  \n",
       "6548  云财经讯，航空母舰、豪华邮轮、大型液化天然气运输船，是全球造船业皇冠上的“三颗明珠”。沪东中...  2020-11-04 13:08:13  \n",
       "6549  云财经讯，据媒体报道，飞行汽车Liberty近日已获得批准可以在欧洲道路上行驶，这是全球第一...  2020-11-04 07:54:49  \n",
       "6550  云财经讯，道指初步收涨逾500点。高盛和摩根士丹利均涨约4%，领跑大型银行股。主要科技股里，...  2020-11-04 04:57:29  \n",
       "6551  云财经讯，11月4日，中国民用航空局局长冯正霖在京会见香港特区行政长官林郑月娥一行，双方就深...  2020-11-05 14:00:30  \n",
       "6552  云财经讯，据国资委，中国东方航空成功签约两项航空大单。一是与CFM（GE通用电气公司与赛峰飞...  2020-11-05 13:01:31  \n",
       "\n",
       "[6553 rows x 3 columns]"
      ]
     },
     "execution_count": 166,
     "metadata": {},
     "output_type": "execute_result"
    }
   ],
   "source": [
    "df2"
   ]
  },
  {
   "cell_type": "code",
   "execution_count": 167,
   "metadata": {},
   "outputs": [],
   "source": [
    "df2.to_csv(\"Aerial_Brief.csv\")"
   ]
  },
  {
   "cell_type": "code",
   "execution_count": null,
   "metadata": {},
   "outputs": [],
   "source": []
  }
 ],
 "metadata": {
  "kernelspec": {
   "display_name": "Python 3",
   "language": "python",
   "name": "python3"
  },
  "language_info": {
   "codemirror_mode": {
    "name": "ipython",
    "version": 3
   },
   "file_extension": ".py",
   "mimetype": "text/x-python",
   "name": "python",
   "nbconvert_exporter": "python",
   "pygments_lexer": "ipython3",
   "version": "3.8.3"
  }
 },
 "nbformat": 4,
 "nbformat_minor": 4
}
